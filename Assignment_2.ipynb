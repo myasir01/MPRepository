{
  "nbformat": 4,
  "nbformat_minor": 0,
  "metadata": {
    "kernelspec": {
      "display_name": "Python 3",
      "language": "python",
      "name": "python3"
    },
    "language_info": {
      "codemirror_mode": {
        "name": "ipython",
        "version": 3
      },
      "file_extension": ".py",
      "mimetype": "text/x-python",
      "name": "python",
      "nbconvert_exporter": "python",
      "pygments_lexer": "ipython3",
      "version": "3.5.2"
    },
    "colab": {
      "name": "Assignment_2.ipynb",
      "provenance": [],
      "include_colab_link": true
    }
  },
  "cells": [
    {
      "cell_type": "markdown",
      "metadata": {
        "id": "view-in-github",
        "colab_type": "text"
      },
      "source": [
        "<a href=\"https://colab.research.google.com/github/myasir01/MPRepository/blob/master/Assignment_2.ipynb\" target=\"_parent\"><img src=\"https://colab.research.google.com/assets/colab-badge.svg\" alt=\"Open In Colab\"/></a>"
      ]
    },
    {
      "cell_type": "markdown",
      "metadata": {
        "id": "H4tn6j3wYOiy",
        "colab_type": "text"
      },
      "source": [
        "### Assignment 2: Strings, Numerics, Booleans, if-then-else"
      ]
    },
    {
      "cell_type": "markdown",
      "metadata": {
        "id": "xxBRnzlDYOi0",
        "colab_type": "text"
      },
      "source": [
        "#### (2pts) A. Create a variable named `greeting` that contains the string 'hello world'. Print the variable `greeting`."
      ]
    },
    {
      "cell_type": "code",
      "metadata": {
        "id": "4pJkht75YOi2",
        "colab_type": "code",
        "colab": {
          "base_uri": "https://localhost:8080/",
          "height": 35
        },
        "outputId": "8392f60f-c230-47c0-8a9b-689ae25a81e6"
      },
      "source": [
        "greeting = 'hello world'\n",
        "print(greeting)"
      ],
      "execution_count": 64,
      "outputs": [
        {
          "output_type": "stream",
          "text": [
            "hello world\n"
          ],
          "name": "stdout"
        }
      ]
    },
    {
      "cell_type": "markdown",
      "metadata": {
        "id": "-sef8f6ZYOi7",
        "colab_type": "text"
      },
      "source": [
        "#### (6pts) B. You are given the string below that contains all the letters of the alphabet in order. Using indexing and slicing methods, do the following:\n",
        "\n",
        "* Print the first letter of the alphabet\n",
        "* Print the second letter of the alphabet\n",
        "* Print the 3rd to 10th letter of the alphabet (inclusive on both ends)\n",
        "* Print the last letter of the alphabet, using negative indexing\n",
        "* Print the last 10 letters of the alphabet, using negative indexing\n",
        "* Print the fist half of the alphabet; use the `len` command.\n"
      ]
    },
    {
      "cell_type": "code",
      "metadata": {
        "id": "beuUH_LhYOi8",
        "colab_type": "code",
        "colab": {
          "base_uri": "https://localhost:8080/",
          "height": 139
        },
        "outputId": "8ece6c53-eda2-4e82-8893-938d072a542b"
      },
      "source": [
        "alphabet = 'ABCDEFGHIJKLMNOPQRSTUVWXYZ'\n",
        "print(alphabet[0])\n",
        "print(alphabet[1])\n",
        "print(alphabet[2:10])\n",
        "print(alphabet[-1])\n",
        "print(alphabet[-10:])\n",
        "length = int(len(alphabet)/2)\n",
        "print(int(length))\n",
        "print(alphabet[0:length])"
      ],
      "execution_count": 21,
      "outputs": [
        {
          "output_type": "stream",
          "text": [
            "A\n",
            "B\n",
            "CDEFGHIJ\n",
            "Z\n",
            "QRSTUVWXYZ\n",
            "13\n",
            "ABCDEFGHIJKLM\n"
          ],
          "name": "stdout"
        }
      ]
    },
    {
      "cell_type": "markdown",
      "metadata": {
        "id": "wNTFkcHAYOjB",
        "colab_type": "text"
      },
      "source": [
        "#### (4pts) C. You are given the height of someone in centimeters. You need to convert it into feet and inches. (Each foot is 30.48 cm. Each inch is 2.54cm. Use variables to store these quantities.). Print the number of feet as an integer, and the number of inches as a decimal with one decimal point."
      ]
    },
    {
      "cell_type": "code",
      "metadata": {
        "id": "Lqu2XbZ4YOjC",
        "colab_type": "code",
        "colab": {
          "base_uri": "https://localhost:8080/",
          "height": 35
        },
        "outputId": "750ea3fc-48e3-4630-8f45-8b9a804a6f30"
      },
      "source": [
        "height = 175 #in cm\n",
        "foot = 30.48 #in cm\n",
        "inch = 2.54  #in cm\n",
        "\n",
        "feet=height/foot;\n",
        "#print(feet)\n",
        "#print(int(feet))\n",
        "\n",
        "inches=(height%30.48)/inch;\n",
        "print(str(int(feet)) +\" ft \" + str(format(inches, '.1f'))+ \" in\")\n"
      ],
      "execution_count": 6,
      "outputs": [
        {
          "output_type": "stream",
          "text": [
            "5 ft 8.9 in\n"
          ],
          "name": "stdout"
        }
      ]
    },
    {
      "cell_type": "markdown",
      "metadata": {
        "id": "5v3iDz7gYOjH",
        "colab_type": "text"
      },
      "source": [
        "#### (4pts) D. The Pythagorean Theorem\n",
        "\n",
        "If $a$ and $b$ are the lengths of the two short sides of a right triangle and $c$ is its long side then:\n",
        "\n",
        "$a^2 + b^2 = c^2$\n",
        "\n",
        "You are given a right triangle with side $a=10$ long and side $b=20$ long. How long is side $c$? (Hint: use the math.sqrt function to compute the square root.)"
      ]
    },
    {
      "cell_type": "code",
      "metadata": {
        "id": "NGUcz2pNYOjI",
        "colab_type": "code",
        "colab": {
          "base_uri": "https://localhost:8080/",
          "height": 35
        },
        "outputId": "5b61cb0b-e46a-4744-ae95-269c3c612d0c"
      },
      "source": [
        "import math\n",
        "temp = 10 ** 2 + 20 ** 2\n",
        "\n",
        "print(math.sqrt(temp)) "
      ],
      "execution_count": 43,
      "outputs": [
        {
          "output_type": "stream",
          "text": [
            "22.360679774997898\n"
          ],
          "name": "stdout"
        }
      ]
    },
    {
      "cell_type": "markdown",
      "metadata": {
        "id": "YQvqQHb1YOjO",
        "colab_type": "text"
      },
      "source": [
        "###### The Pythagorean Theorem (cont)\n",
        "\n",
        "Conversely, if the formula $a^2 + b^2 = c^2$ holds then a triangle whose sides have length $a$, $b$ and $c$ is a right triangle. You are given below the lengths of the sides of 3 triangles. Write  the boolean expression that checks if the triangle is a right triangle. Assume that `c` is always the longest side.\n"
      ]
    },
    {
      "cell_type": "code",
      "metadata": {
        "id": "28ttocMTYOjP",
        "colab_type": "code",
        "colab": {
          "base_uri": "https://localhost:8080/",
          "height": 35
        },
        "outputId": "8b5105eb-cdea-4590-9590-7014ef6bba06"
      },
      "source": [
        "# Triangle 1\n",
        "a = 10\n",
        "b = 20\n",
        "c = 30\n",
        "\n",
        "temp = a ** 2 + b ** 2\n",
        "temp2 = c ** 2\n",
        "#print(temp)\n",
        "#print(temp2)\n",
        "\n",
        "temp == temp2"
      ],
      "execution_count": 9,
      "outputs": [
        {
          "output_type": "execute_result",
          "data": {
            "text/plain": [
              "False"
            ]
          },
          "metadata": {
            "tags": []
          },
          "execution_count": 9
        }
      ]
    },
    {
      "cell_type": "code",
      "metadata": {
        "id": "XNmEjVuNYOjU",
        "colab_type": "code",
        "colab": {
          "base_uri": "https://localhost:8080/",
          "height": 35
        },
        "outputId": "4ae06fc8-8073-41b5-884e-c0ff00c7be17"
      },
      "source": [
        "# Triangle 2\n",
        "a = 15\n",
        "b = 112\n",
        "c = 113\n",
        "\n",
        "temp = a ** 2 + b ** 2\n",
        "temp2 = c ** 2\n",
        "#print(temp)\n",
        "#print(temp2)\n",
        "\n",
        "temp == temp2"
      ],
      "execution_count": 8,
      "outputs": [
        {
          "output_type": "execute_result",
          "data": {
            "text/plain": [
              "True"
            ]
          },
          "metadata": {
            "tags": []
          },
          "execution_count": 8
        }
      ]
    },
    {
      "cell_type": "code",
      "metadata": {
        "id": "Ube-7J_4YOjY",
        "colab_type": "code",
        "colab": {
          "base_uri": "https://localhost:8080/",
          "height": 35
        },
        "outputId": "40b365c8-65df-402b-c225-9aaba1b64836"
      },
      "source": [
        "# Triangle 3\n",
        "a = 96\n",
        "b = 247\n",
        "c = 255\n",
        "\n",
        "temp = a ** 2 + b ** 2\n",
        "temp2 = c ** 2\n",
        "#print(temp)\n",
        "#print(temp2)\n",
        "\n",
        "temp == temp2"
      ],
      "execution_count": 7,
      "outputs": [
        {
          "output_type": "execute_result",
          "data": {
            "text/plain": [
              "False"
            ]
          },
          "metadata": {
            "tags": []
          },
          "execution_count": 7
        }
      ]
    },
    {
      "cell_type": "markdown",
      "metadata": {
        "id": "rE6lwsDoYOjd",
        "colab_type": "text"
      },
      "source": [
        "#### (8pts) E. Write Boolean expressions for the following.\n",
        "\n",
        "* Can a student graduate? A student can graduate after completing at least 120 credits, and has registered for at least 6 semesters ."
      ]
    },
    {
      "cell_type": "code",
      "metadata": {
        "id": "i8_kOVuXYOjd",
        "colab_type": "code",
        "colab": {
          "base_uri": "https://localhost:8080/",
          "height": 35
        },
        "outputId": "d98579d6-4ecc-4fce-c805-52b1b7d24dcf"
      },
      "source": [
        "semesters = 6 # fill your value\n",
        "credits = 100 # fill your value\n",
        "\n",
        "semesters == 6 and credits == 120"
      ],
      "execution_count": 54,
      "outputs": [
        {
          "output_type": "execute_result",
          "data": {
            "text/plain": [
              "False"
            ]
          },
          "metadata": {
            "tags": []
          },
          "execution_count": 54
        }
      ]
    },
    {
      "cell_type": "markdown",
      "metadata": {
        "id": "GlcbYTa1YOji",
        "colab_type": "text"
      },
      "source": [
        "* Can I register today? A student can register on Monday if Senior, on Tuesday if Junior, on Wednesday if Sophomore, and on Thursday if Freshman."
      ]
    },
    {
      "cell_type": "code",
      "metadata": {
        "id": "WVqePgBvYOjj",
        "colab_type": "code",
        "colab": {
          "base_uri": "https://localhost:8080/",
          "height": 35
        },
        "outputId": "f3ff8ef1-0cd3-4d95-c96e-6ac081b23841"
      },
      "source": [
        "status = 'Junior' #also 'Junior', 'Sophomore', 'Freshman'\n",
        "days = 'Monday' #also 'Monday', 'Tuesday', 'Wednesday', 'Thursday', 'Friday', 'Saturday'\n",
        "\n",
        "(status == 'Senior' and days == 'Monday') or (status == 'Junior' and days == 'Tuesday') or (status == 'Sophomore' and days == 'Wednesday') or (status == 'Freshman' and days == 'Thursday') \n"
      ],
      "execution_count": 63,
      "outputs": [
        {
          "output_type": "execute_result",
          "data": {
            "text/plain": [
              "False"
            ]
          },
          "metadata": {
            "tags": []
          },
          "execution_count": 63
        }
      ]
    },
    {
      "cell_type": "markdown",
      "metadata": {
        "id": "Hz8ADApGYOjn",
        "colab_type": "text"
      },
      "source": [
        "#### (4pts) F. Compute and print both roots of the quadratic equation x^2-5.86\\*x+8.5408.\n",
        "\n",
        "Hint: recall that the roots of a quadratic equation $a \\cdot x^2+ b \\cdot x+c$ are $x = \n",
        "\\frac{−b ± \\sqrt{b^2 − 4 \\cdot a \\cdot c}}{ 2 \\cdot a}$\n"
      ]
    },
    {
      "cell_type": "code",
      "metadata": {
        "id": "Bo2FqpDjYOjo",
        "colab_type": "code",
        "colab": {
          "base_uri": "https://localhost:8080/",
          "height": 52
        },
        "outputId": "431311fd-2e36-4648-9c3b-36acf3d6ee2e"
      },
      "source": [
        "import math\n",
        "a = 1\n",
        "b = -5.86\n",
        "c = 8.5408\n",
        "\n",
        "firstx = -b + math.sqrt(b**2 - 4*a*c)\n",
        "secondx = -b - math.sqrt(b**2 - 4*a*c)\n",
        "\n",
        "e = 2 * a\n",
        "print(firstx/e)\n",
        "print(secondx/e)  \n"
      ],
      "execution_count": 71,
      "outputs": [
        {
          "output_type": "stream",
          "text": [
            "3.1400000000000006\n",
            "2.7199999999999998\n"
          ],
          "name": "stdout"
        }
      ]
    },
    {
      "cell_type": "markdown",
      "metadata": {
        "id": "fKeGmm3lYOjt",
        "colab_type": "text"
      },
      "source": [
        "#### (8pts) H.  You are given two articles below, regarding North and South Korea. The `article1` is from [Reuters](http://www.reuters.com/article/us-un-assembly-southkorea-northkorea-idUSKCN11T04N) and `article2` is from [Korea Herald](http://www.koreaherald.com/view.php?ud=20160923000173).\n",
        "\n",
        "* (1pts) Compute the length of each article in characters.\n",
        "* (1pts) Compute the length of each article length in words.\n",
        "* (1pts) Compute the length of each article in sentences. Assume that the period `.` is the separator between sentences.\n",
        "* (1pts) What is the average length of each sentence in words, for each article?\n",
        "* (2pts) Is `Obama` mentioned in `article1`? Is `Obama` mentioned in `article2`?\n",
        "* (2pts) How many times is `Korea` mentioned in in `article1` and how many times in `article2`? It is fine if your code also counts `Korean`."
      ]
    },
    {
      "cell_type": "code",
      "metadata": {
        "id": "SbiluWMTYOju",
        "colab_type": "code",
        "colab": {}
      },
      "source": [
        "article1 = \"\"\"South Korean Foreign Minister Yun Byung-se accused North Korea on Thursday of \"totally ridiculing\" the authority of the United Nations through its nuclear and missile tests and said it was time to reconsider whether it was qualified for U.N. membership. In an address to the annual United Nations General Assembly, Yun said the U.N. security Council should adopt \"stronger, comprehensive\" sanctions on North Korea after its fifth nuclear test on Sept. 9 and close loopholes in existing measures. \"North Korea's repeated violations and non-compliance of Security Council resolutions and international norms is unprecedented and has no parallel in the history of the U.N.,\" Yun said. \"North Korea is totally ridiculing the authority of the General Assembly and the Security Council,\" he said. \"Therefore, I believe it is high time to seriously reconsider whether North Korea is qualified as a peace-loving U.N. member, as many countries are already questioning.\" Yun said North Korea had not only advanced its nuclear and missile capacity, but publicly threatened to use those weapons preemptively. He said it was the \"last chance\" to put a brake on its nuclear ambitions. Yun also called for action against North Korea's violations of the rights of its own people, and said there should be greater focus on North Korean workers abroad and the possible diversion of their wages to weapons programs.Discussions are already under way on a possible new U.N. sanctions resolution on North Korea after its latest nuclear test. Analysts and diplomats say much depends on China's attitude. China is North Korea's main ally, but has been angered by its repeated missile and nuclear tests and backed tough U.N. sanctions on Pyongyang in March. At the same time, it has repeatedly called for a return to international talks to resolve the issue, in spite of the skepticism of other world powers. Chinese Premier Li Keqiang told the General Assembly on Wednesday countries must remain committed to denuclearization of the Korean peninsula, while seeking a solution to the North Korean nuclear issue through dialogue. The United States said Li and U.S. President Barack Obama agreed in New York on Monday to step up cooperation in the U.N. Security Council and in law enforcement channels Japanese Prime Minister Shinzo Abe said on Wednesday the threat posed by North Korea was \"substantially more serious\" than in the past and demanded an \"entirely distinct\" response.\"\"\"\n",
        "article2 = \"\"\"The UN Security Council should go beyond simply discussing North Korea's human rights violations and take \"meaningful action,\" South Korean Foreign Minister Yun Byung-se said Thursday, as the council is considering fresh sanctions on Pyongyang for its fifth nuclear test. Yun made the remark during a meeting with South Korean correspondents in New York, saying the North's human rights abuses will be one of the key focuses of an address he was scheduled to deliver at the UN General Assembly later in the day. Yun said it makes no sense for the North to ask for international aid to cope with the aftermath of a massive flood after wasting money on a nuclear test. \"North Korea cares nothing about people's hardships while wasting an enormous amount of money. I will strongly point out these dual attitudes and the North's disregard for human rights at the United Nations,\" Yun told reporters Yun's remarks came as the Security Council has been working on new sanctions on the North for its Sept. 9 nuclear test, and suggest that a new sanctions package could include measures with regard to Pyongyang's human rights violations. A senior government official also said on condition of anonymity that the Security Council might impose sanctions not only over the North's nuclear and missile programs, but also over its human rights abuses. The official spoke on condition of anonymity. The official also said a new sanctions resolution is expected to be adopted in a shorter period of time than after the North's fourth nuclear test in January when it took 57 days to adopt a resolution. \"I expect an additional resolution will be adopted within a reasonable period of time,\" the official said. The official also said that the previous resolution, considered the toughest sanctions on the North ever, is having considerable effects on the North. The US is also expected to take additional unilateral sanctions on Pyongyang, too, the official said. The official said it's not the right time to hold negotiations with the North because it could justify the North's bad behavior. The UN General Assembly adopted a landmark resolution calling for referring the issue to the International Criminal Court for two years in a row in 2014 and last year. Under the resolutions, the Security Council also held discussions on the issue twice. While in New York, Yun said he has held meetings with various US figures that could lead the security and foreign policy in the next US administration. He did not provide further specifics, including who those people were, and which campaign they're with. Yun said that he stressed in those meetings that the Korea-US alliance is a key pillar in the Asia-Pacific region and a core point of the rebalancing toward Asia-Pacific, and that the Korea-US free trade agreement has contributed greatly to enhancing mutual interests of the two countries.\"\"\""
      ],
      "execution_count": 43,
      "outputs": []
    },
    {
      "cell_type": "code",
      "metadata": {
        "id": "nCLJz7B5YOjz",
        "colab_type": "code",
        "colab": {
          "base_uri": "https://localhost:8080/",
          "height": 107
        },
        "outputId": "c478e2d3-b0db-4882-a0d4-a95660343150"
      },
      "source": [
        "# Compute the length of each article in characters.\n",
        "print(article1)\n",
        "print(article2)\n",
        "print(len(article1))\n",
        "print(len(article2))"
      ],
      "execution_count": 44,
      "outputs": [
        {
          "output_type": "stream",
          "text": [
            "South Korean Foreign Minister Yun Byung-se accused North Korea on Thursday of \"totally ridiculing\" the authority of the United Nations through its nuclear and missile tests and said it was time to reconsider whether it was qualified for U.N. membership. In an address to the annual United Nations General Assembly, Yun said the U.N. security Council should adopt \"stronger, comprehensive\" sanctions on North Korea after its fifth nuclear test on Sept. 9 and close loopholes in existing measures. \"North Korea's repeated violations and non-compliance of Security Council resolutions and international norms is unprecedented and has no parallel in the history of the U.N.,\" Yun said. \"North Korea is totally ridiculing the authority of the General Assembly and the Security Council,\" he said. \"Therefore, I believe it is high time to seriously reconsider whether North Korea is qualified as a peace-loving U.N. member, as many countries are already questioning.\" Yun said North Korea had not only advanced its nuclear and missile capacity, but publicly threatened to use those weapons preemptively. He said it was the \"last chance\" to put a brake on its nuclear ambitions. Yun also called for action against North Korea's violations of the rights of its own people, and said there should be greater focus on North Korean workers abroad and the possible diversion of their wages to weapons programs.Discussions are already under way on a possible new U.N. sanctions resolution on North Korea after its latest nuclear test. Analysts and diplomats say much depends on China's attitude. China is North Korea's main ally, but has been angered by its repeated missile and nuclear tests and backed tough U.N. sanctions on Pyongyang in March. At the same time, it has repeatedly called for a return to international talks to resolve the issue, in spite of the skepticism of other world powers. Chinese Premier Li Keqiang told the General Assembly on Wednesday countries must remain committed to denuclearization of the Korean peninsula, while seeking a solution to the North Korean nuclear issue through dialogue. The United States said Li and U.S. President Barack Obama agreed in New York on Monday to step up cooperation in the U.N. Security Council and in law enforcement channels Japanese Prime Minister Shinzo Abe said on Wednesday the threat posed by North Korea was \"substantially more serious\" than in the past and demanded an \"entirely distinct\" response.\n",
            "The UN Security Council should go beyond simply discussing North Korea's human rights violations and take \"meaningful action,\" South Korean Foreign Minister Yun Byung-se said Thursday, as the council is considering fresh sanctions on Pyongyang for its fifth nuclear test. Yun made the remark during a meeting with South Korean correspondents in New York, saying the North's human rights abuses will be one of the key focuses of an address he was scheduled to deliver at the UN General Assembly later in the day. Yun said it makes no sense for the North to ask for international aid to cope with the aftermath of a massive flood after wasting money on a nuclear test. \"North Korea cares nothing about people's hardships while wasting an enormous amount of money. I will strongly point out these dual attitudes and the North's disregard for human rights at the United Nations,\" Yun told reporters Yun's remarks came as the Security Council has been working on new sanctions on the North for its Sept. 9 nuclear test, and suggest that a new sanctions package could include measures with regard to Pyongyang's human rights violations. A senior government official also said on condition of anonymity that the Security Council might impose sanctions not only over the North's nuclear and missile programs, but also over its human rights abuses. The official spoke on condition of anonymity. The official also said a new sanctions resolution is expected to be adopted in a shorter period of time than after the North's fourth nuclear test in January when it took 57 days to adopt a resolution. \"I expect an additional resolution will be adopted within a reasonable period of time,\" the official said. The official also said that the previous resolution, considered the toughest sanctions on the North ever, is having considerable effects on the North. The US is also expected to take additional unilateral sanctions on Pyongyang, too, the official said. The official said it's not the right time to hold negotiations with the North because it could justify the North's bad behavior. The UN General Assembly adopted a landmark resolution calling for referring the issue to the International Criminal Court for two years in a row in 2014 and last year. Under the resolutions, the Security Council also held discussions on the issue twice. While in New York, Yun said he has held meetings with various US figures that could lead the security and foreign policy in the next US administration. He did not provide further specifics, including who those people were, and which campaign they're with. Yun said that he stressed in those meetings that the Korea-US alliance is a key pillar in the Asia-Pacific region and a core point of the rebalancing toward Asia-Pacific, and that the Korea-US free trade agreement has contributed greatly to enhancing mutual interests of the two countries.\n",
            "2455\n",
            "2876\n"
          ],
          "name": "stdout"
        }
      ]
    },
    {
      "cell_type": "code",
      "metadata": {
        "id": "xQXWO3-BYOj3",
        "colab_type": "code",
        "colab": {
          "base_uri": "https://localhost:8080/",
          "height": 52
        },
        "outputId": "db615be4-84b4-4abb-ac9c-109e236b85df"
      },
      "source": [
        "# Compute the length of each article length in words.\n",
        "\n",
        "lista = article1.split(' ')\n",
        "print(len(lista))\n",
        "\n",
        "listb = article2.split(' ')\n",
        "print(len(listb))"
      ],
      "execution_count": 77,
      "outputs": [
        {
          "output_type": "stream",
          "text": [
            "393\n",
            "476\n"
          ],
          "name": "stdout"
        }
      ]
    },
    {
      "cell_type": "code",
      "metadata": {
        "id": "VReibm3qYOj7",
        "colab_type": "code",
        "colab": {
          "base_uri": "https://localhost:8080/",
          "height": 52
        },
        "outputId": "157706c6-5678-4253-a3cc-685b1cbf7a8f"
      },
      "source": [
        "# Compute the length of each article in sentences. Assume that the period . is the separator between sentences.\n",
        "lista = article1.split('. ')\n",
        "#print(lista)\n",
        "print(\"Artcle2 :\"+str(len(lista)))\n",
        "listb = article2.split('. ')\n",
        "#print(lista)\n",
        "print(\"Artcle2 :\"+str(len(listb)))\n",
        "\n",
        "#count = 0\n",
        "#for sent in lista:\n",
        "#   print(sent)\n",
        "# #  if len(sent) > 1:\n",
        "#   inList = sent.split(' ')\n",
        "# #  else:\n",
        "# #       continue\n",
        "#   #print(inList)\n",
        "# #  print('\\n')\n",
        "# #  print(len(inList))\n",
        "#   if len(inList) > 1 :\n",
        "#        count= count + 1\n",
        "#        print(count)\n",
        "#        print('Yes')\n",
        "#   else:\n",
        "#      print('No')\n",
        "#      continue\n",
        "\n",
        "#print(count)\n"
      ],
      "execution_count": 63,
      "outputs": [
        {
          "output_type": "stream",
          "text": [
            "Artcle2 :20\n",
            "Artcle2 :18\n"
          ],
          "name": "stdout"
        }
      ]
    },
    {
      "cell_type": "code",
      "metadata": {
        "id": "RsYtYk0QYOj_",
        "colab_type": "code",
        "colab": {
          "base_uri": "https://localhost:8080/",
          "height": 52
        },
        "outputId": "429db117-7e7e-4be1-a7a1-ebc715947140"
      },
      "source": [
        "# What is the average length of each sentence in words, for each article?\n",
        "lista = article1.split('. ')\n",
        "#print(lista)\n",
        "#print(len(lista))\n",
        "count = 0 \n",
        "for sent in lista:\n",
        "  listawords = sent.split(' ')\n",
        "  #print(len(listawords))\n",
        "  count = count + len(listawords)\n",
        "\n",
        "avgcounta = count/len(lista)\n",
        "print(\"article 1 avg:\"+ str(int(avgcounta)))\n",
        "\n",
        "listb = article2.split('. ')\n",
        "#print(lista)\n",
        "#print(len(listb))\n",
        "count = 0 \n",
        "for sent in listb:\n",
        "  listbwords = sent.split(' ')\n",
        "  #print(len(listbwords))\n",
        "  count = count + len(listbwords)\n",
        "\n",
        "avgcountb = count/len(listb)\n",
        "print(\"article 2 avg:\"+ str(int(avgcountb)))\n"
      ],
      "execution_count": 51,
      "outputs": [
        {
          "output_type": "stream",
          "text": [
            "article 1 avg:19\n",
            "article 2 avg:26\n"
          ],
          "name": "stdout"
        }
      ]
    },
    {
      "cell_type": "code",
      "metadata": {
        "id": "0S3tSXUnYOkD",
        "colab_type": "code",
        "colab": {
          "base_uri": "https://localhost:8080/",
          "height": 52
        },
        "outputId": "e110093a-295b-40bb-88dc-abd8c5c65b64"
      },
      "source": [
        "# Is Obama mentioned in article1? Is Obama mentioned in article2?\n",
        "if ( article1.find(\"Obama\") != -1):\n",
        "  print(\"Obama mentioned in article1\")\n",
        "else:\n",
        "  print(\"Obama not mentioned in article1\")\n",
        "\n",
        "if ( article2.find(\"Obama\") != -1):\n",
        "  print(\"Obama mentioned in article2\")\n",
        "else:\n",
        "  print(\"Obama not mentioned in article2\")\n"
      ],
      "execution_count": 59,
      "outputs": [
        {
          "output_type": "stream",
          "text": [
            "Obama mentioned in article1\n",
            "Obama not mentioned in article2\n"
          ],
          "name": "stdout"
        }
      ]
    },
    {
      "cell_type": "code",
      "metadata": {
        "id": "jfEYkK11YOkG",
        "colab_type": "code",
        "colab": {
          "base_uri": "https://localhost:8080/",
          "height": 52
        },
        "outputId": "f92e9765-b5b7-4a8f-9be6-10a95a327dd4"
      },
      "source": [
        "# How many times is Korea mentioned in in article1 and how many times in article2?\n",
        "times = 0\n",
        "place = 0\n",
        "while article1.find('Korea', place) != -1:\n",
        "  times = times + 1\n",
        "  place = article1.find('Korea', place) + 5\n",
        "\n",
        "print(\"article 1 :\" + str(times))\n",
        "\n",
        "times = 0\n",
        "place = 0\n",
        "while article2.find('Korea', place) != -1:\n",
        "  times = times + 1\n",
        "  place = article2.find('Korea', place) + 5\n",
        "\n",
        "print(\"article 2 :\" + str(times))\n"
      ],
      "execution_count": 62,
      "outputs": [
        {
          "output_type": "stream",
          "text": [
            "article 1 :14\n",
            "article 2 :6\n"
          ],
          "name": "stdout"
        }
      ]
    },
    {
      "cell_type": "markdown",
      "metadata": {
        "collapsed": true,
        "id": "t9LNO5ytYOkJ",
        "colab_type": "text"
      },
      "source": [
        "#### (4pts) I. Voting Eligibility\n",
        "\n",
        "You need to be above 18 and a US Citizen, to be able to vote. You also need to be registered. Write the conditional expression that checks for these conditions and prints out whether the person can vote. If the person cannot vote, the code should print out the reason (below 18, or not a US citizen, or not registered, or a combination thereof).\n"
      ]
    },
    {
      "cell_type": "code",
      "metadata": {
        "id": "EmzTyThJYOkK",
        "colab_type": "code",
        "colab": {
          "base_uri": "https://localhost:8080/",
          "height": 35
        },
        "outputId": "39fe2909-b362-4b8a-fa72-a10358f4af5a"
      },
      "source": [
        "above = 19 \n",
        "USCitizen = False\n",
        "Registered = True\n",
        "\n",
        "if (above > 18 and USCitizen == True and Registered == True):\n",
        "  print(\"The person can vote\")\n",
        "elif( above <= 18 and USCitizen == True and Registered == True):\n",
        "   print(\"The person can not vote and below 18\")\n",
        "elif( above <= 18 and USCitizen == False and Registered == True):\n",
        "   print(\"The person can not vote, below 18 and not US Citizen\")\n",
        "elif( above <= 18 and USCitizen == False and Registered == False):\n",
        "   print(\"The person can not vote, below 18, not US Citizen and Not Registered\")\n",
        "elif( above > 18 and USCitizen == False and Registered == True):\n",
        "   print(\"The person can not vote, not US Citizen\")\n",
        "elif( above > 18 and USCitizen == False and Registered == False):\n",
        "   print(\"The person can not vote, not US Citizen and not registered\")\n",
        "elif( above > 18 and USCitizen == True and Registered == False):\n",
        "   print(\"The person can not vote but not registered\")\n"
      ],
      "execution_count": 29,
      "outputs": [
        {
          "output_type": "stream",
          "text": [
            "The person can not vote, not US Citizen\n"
          ],
          "name": "stdout"
        }
      ]
    },
    {
      "cell_type": "markdown",
      "metadata": {
        "id": "G4RhdtUWYOkN",
        "colab_type": "text"
      },
      "source": [
        "#### (5pts) J. Pay Rate\n",
        "\n",
        "A worker gets paid an hourly wage, when working up to 40 hours per week. When the time at work goes above 40 hours in a week, the worker is being paid overtime rate, which is 1.5 times the hourly wage. Given the hours worked per week, and the hourly wage, compute the weekly salary of the worker."
      ]
    },
    {
      "cell_type": "code",
      "metadata": {
        "id": "3BMoURhTYOkO",
        "colab_type": "code",
        "colab": {
          "base_uri": "https://localhost:8080/",
          "height": 35
        },
        "outputId": "788f90d3-b097-4149-ac40-7867321810f1"
      },
      "source": [
        "#HourWorked = input(\"Hour Worked:\")\n",
        "#HourlyWage = input(\"Hourly Wage:\")\n",
        "HourWorked = 40  # assume 40\n",
        "HourlyWage = 10  # assume 10\n",
        "\n",
        "if int(HourWorked) <= 40:\n",
        "  WeeklySalary = int(HourWorked) * int(HourlyWage)\n",
        "else:\n",
        "  WeeklySalary = int(HourWorked) * int(HourlyWage) * 1.5\n",
        "\n",
        "print(WeeklySalary)"
      ],
      "execution_count": 19,
      "outputs": [
        {
          "output_type": "stream",
          "text": [
            "400\n"
          ],
          "name": "stdout"
        }
      ]
    },
    {
      "cell_type": "markdown",
      "metadata": {
        "id": "pUYRzYWiYOkR",
        "colab_type": "text"
      },
      "source": [
        "#### (5pts) K. Course grade \n",
        "\n",
        "Write a program to prompt for a score between 0.0 and 1.0. If the\n",
        "score is out of range, print an error message. If the score is between 0.0 and 1.0,\n",
        "print a grade using the following table:\n",
        "\n",
        "```\n",
        "Score   Grade\n",
        ">1      Error: Too big\n",
        ">=0.9   A\n",
        ">=0.8   B\n",
        ">=0.7   C\n",
        ">=0.6   D\n",
        "<0.6    F\n",
        "<0      Error: Too small\n",
        "```"
      ]
    },
    {
      "cell_type": "code",
      "metadata": {
        "id": "CNbnKgDTYOkR",
        "colab_type": "code",
        "colab": {
          "base_uri": "https://localhost:8080/",
          "height": 52
        },
        "outputId": "8ddb1f4a-da58-48c7-a5d9-1a97438524f2"
      },
      "source": [
        "score = input(\"Score:\")\n",
        "float(score)\n",
        "if (float(score) > 1):\n",
        "  print(\"Error: Too big\")\n",
        "elif (float(score) >= 0.9):\n",
        "  print(\"A\")\n",
        "elif (float(score) >= 0.8):\n",
        "  print(\"B\")\n",
        "elif (float(score) >= 0.7):\n",
        "  print(\"C\")\n",
        "elif (float(score) >= 0.6):\n",
        "  print(\"D\")\n",
        "elif (float(score) < 0):\n",
        "  print(\"Error: Too small\")\n",
        "elif (float(score) < 0.6):\n",
        "  print(\"F\")\n",
        "\n"
      ],
      "execution_count": 39,
      "outputs": [
        {
          "output_type": "stream",
          "text": [
            "Score:1.1\n",
            "Error: Too big\n"
          ],
          "name": "stdout"
        }
      ]
    }
  ]
}