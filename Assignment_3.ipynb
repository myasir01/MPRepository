{
  "nbformat": 4,
  "nbformat_minor": 0,
  "metadata": {
    "kernelspec": {
      "display_name": "Python 3",
      "language": "python",
      "name": "python3"
    },
    "language_info": {
      "codemirror_mode": {
        "name": "ipython",
        "version": 3
      },
      "file_extension": ".py",
      "mimetype": "text/x-python",
      "name": "python",
      "nbconvert_exporter": "python",
      "pygments_lexer": "ipython3",
      "version": "3.6.7"
    },
    "colab": {
      "name": "Assignment_3.ipynb",
      "provenance": [],
      "collapsed_sections": [],
      "include_colab_link": true
    }
  },
  "cells": [
    {
      "cell_type": "markdown",
      "metadata": {
        "id": "view-in-github",
        "colab_type": "text"
      },
      "source": [
        "<a href=\"https://colab.research.google.com/github/myasir01/MPRepository/blob/master/Assignment_3.ipynb\" target=\"_parent\"><img src=\"https://colab.research.google.com/assets/colab-badge.svg\" alt=\"Open In Colab\"/></a>"
      ]
    },
    {
      "cell_type": "markdown",
      "metadata": {
        "id": "CTzYtBRQBYtA",
        "colab_type": "text"
      },
      "source": [
        "### Assignment 3: Data Structures, Loops, Functions"
      ]
    },
    {
      "cell_type": "markdown",
      "metadata": {
        "id": "mx0k8clXBYtB",
        "colab_type": "text"
      },
      "source": [
        "#### (10 pts) A. Nested Data Structures and Lists\n",
        "\n",
        "The students received their grades for a midterm exam. The results came as a dictionary, and the grades are in the form of lists. The list contains the score each student received, for each question in the midterm. Unfortunately, the professor was very absent minded and he forgot to sum up the points to compute the overall grade for each student.\n",
        "\n",
        "* (1pts) How many students are in the data set?\n",
        "* (1pts) How many questions were in the midterm?\n",
        "* (4pts) Write code to compute the overall grade of each student. Add the overall grade in a new dictionary called `midterm_grades`, with the students as keys, and the overall grades as (integer) values.\n",
        "* (1pts) Extract the values from the `midterm_grades` and create a list of the overall grades for the midterm.\n",
        "* (3pts) Compute the maximum, minimum, average, and median grade among the overall student grades.\n"
      ]
    },
    {
      "cell_type": "code",
      "metadata": {
        "id": "aGb0xuc2BYtC",
        "colab_type": "code",
        "colab": {
          "base_uri": "https://localhost:8080/",
          "height": 156
        },
        "outputId": "49cd7a28-3c9c-4ad8-81e4-50a5d386be3e"
      },
      "source": [
        "grades = {\n",
        "    \"studentA\" : [5, 2, 3, 1, 2, 4, 5, 5, 1, 1],\n",
        "    \"studentB\" : [1, 2, 5, 5, 2, 0, 1, 5, 5, 2],\n",
        "    \"studentC\" : [2, 5, 5, 5, 5, 0, 1, 3, 1, 0],\n",
        "    \"studentD\" : [0, 1, 0, 5, 2, 5, 1, 3, 3, 5],\n",
        "    \"studentE\" : [5, 4, 5, 5, 1, 5, 1, 4, 4, 5],\n",
        "    \"studentF\" : [2, 2, 1, 1, 1, 3, 1, 3, 0, 1],\n",
        "    \"studentG\" : [5, 5, 5, 5, 5, 4, 3, 5, 3, 1],\n",
        "}\n",
        "\n",
        "students = len(grades)\n",
        "print(\"No of Students: \"+str(students))\n",
        "\n",
        "for sIndex in grades:\n",
        "  questions = len(grades[sIndex])  # since it is dictionary we get the index in for loop\n",
        "  break;\n",
        "\n",
        "print(\"No of questions in midterm: \"+str(questions))\n",
        "\n",
        "midterm_grades = dict()\n",
        "midterm_gradesList = []\n",
        "for sIndex in grades:\n",
        "  #questions = len(grades[sIndex])  # since it is dictionary we get the index in for loop\n",
        "  midterm_grades[sIndex] = 0\n",
        "  #print(grades[sIndex])\n",
        "  for scores in grades[sIndex]:\n",
        "    midterm_grades[sIndex] = midterm_grades[sIndex] + int(scores)\n",
        "  midterm_gradesList.append(midterm_grades[sIndex])\n",
        "  #print(midterm_grades[sIndex])\n",
        "\n",
        "print(\"Dictionary :\" + str(midterm_grades))\n",
        "print(\"List :\" + str(midterm_gradesList))\n",
        "\n",
        "print(\"Max : \"+ str(max(midterm_gradesList)))\n",
        "print(\"Min : \"+ str(min(midterm_gradesList)))\n",
        "print(\"Average : \"+ str(round(sum(midterm_gradesList)/len(midterm_gradesList),2)))\n",
        "midterm_gradesList.sort()\n",
        "#print(midterm_gradesList)\n",
        "val = len(midterm_gradesList)/2\n",
        "#print(type(val))\n",
        "\n",
        "if type(val) == float:\n",
        "  print(\"Median : \"+ str(midterm_gradesList[round(val)-1]))\n",
        "else:\n",
        "  print(\"Median : \"+ str((midterm_gradesList[val]+midterm_gradesList[val+1])/2))\n",
        "\n"
      ],
      "execution_count": 26,
      "outputs": [
        {
          "output_type": "stream",
          "text": [
            "No of Students: 7\n",
            "No of questions in midterm: 10\n",
            "Dictionary :{'studentA': 29, 'studentB': 28, 'studentC': 27, 'studentD': 25, 'studentE': 39, 'studentF': 15, 'studentG': 41}\n",
            "List :[29, 28, 27, 25, 39, 15, 41]\n",
            "Max : 41\n",
            "Min : 15\n",
            "Average : 29.14\n",
            "Median : 28\n"
          ],
          "name": "stdout"
        }
      ]
    },
    {
      "cell_type": "markdown",
      "metadata": {
        "id": "ynlAYtAeBYtF",
        "colab_type": "text"
      },
      "source": [
        "#### (10 pts) B. Restaurant Meal Price \n",
        "\n",
        "* Part 1. (1pts) Write code that computes the total price of the meal in a restaurant. You know that:\n",
        "    * The price of the food is $15.\n",
        "    * The NY State Tax rate is 8.875%.\n",
        "    * The tipping percentage is 18% of the the overall cost of the meal (including tax).\n",
        "    * Use Python variables to perform the computation.\n",
        "\n",
        "* Part 2. (2 pts) Write a function that computes the total price of the meal in a restaurant. The function takes as input the food price, the sales tax rate, and the tip percentage. The tip is computed on the overall cost of the meal (including tax).\n",
        "\n",
        "* Part 3. (3 pts) Write a for loop that computes the total price of a meal, for different tipping rates, starting from 15% and ending at 25% (both inclusive) at 1% increments. Use the function from Part 2 as part of the loop.\n",
        "\n",
        "* Part 4. (4 pts) Below you will find a dictionary with the tax rates for different states, expressed in percentiles. Iterate through all states and print the value of a meal, where the pre-tax food price is $20; show the prices for tip percentages of 15%, 20%, and 25%.\n",
        "\n"
      ]
    },
    {
      "cell_type": "code",
      "metadata": {
        "id": "OFlYJ3CLBYtG",
        "colab_type": "code",
        "colab": {
          "base_uri": "https://localhost:8080/",
          "height": 208
        },
        "outputId": "a2a4297a-0fb8-4359-cb3f-fd234950162e"
      },
      "source": [
        "PriceOfFood = 15\n",
        "NYStateTax = 8.875 # percent\n",
        "tip = 18 # in percent of total meal\n",
        "\n",
        "overall = PriceOfFood + (PriceOfFood * (NYStateTax/100))\n",
        "\n",
        "Total = overall + (overall * (tip/100))\n",
        "\n",
        "print(\"Total price :\"+ str(round(Total,2)))\n",
        "\n",
        "\n",
        "def computeprice(foodprice,salestax,tipammount):\n",
        "  overallPrice = foodprice + (foodprice * (salestax/100))\n",
        "  TotalPrice = overallPrice + (overallPrice * (tipammount/100))\n",
        "  print(\"Total computed price for tip \"+ str(tipammount)+ \" : \" + str(round(TotalPrice,2)))\n",
        "\n",
        "#computeprice(20,9,18)\n",
        "\n",
        "\n",
        "for itrvar in list(range(15, 25)):\n",
        "  computeprice(PriceOfFood,NYStateTax,itrvar)\n"
      ],
      "execution_count": 38,
      "outputs": [
        {
          "output_type": "stream",
          "text": [
            "Total price :19.27\n",
            "Total computed price for tip 15 : 18.78\n",
            "Total computed price for tip 16 : 18.94\n",
            "Total computed price for tip 17 : 19.11\n",
            "Total computed price for tip 18 : 19.27\n",
            "Total computed price for tip 19 : 19.43\n",
            "Total computed price for tip 20 : 19.6\n",
            "Total computed price for tip 21 : 19.76\n",
            "Total computed price for tip 22 : 19.92\n",
            "Total computed price for tip 23 : 20.09\n",
            "Total computed price for tip 24 : 20.25\n"
          ],
          "name": "stdout"
        }
      ]
    },
    {
      "cell_type": "code",
      "metadata": {
        "id": "4Vpi3LnwBYtI",
        "colab_type": "code",
        "colab": {
          "base_uri": "https://localhost:8080/",
          "height": 1000
        },
        "outputId": "4ff5bdb8-6f70-4d41-9b68-5cacb618b4dd"
      },
      "source": [
        "tax = {\n",
        "    \"Alabama\": 13.50, \n",
        "    \"Alaska\": 7,\n",
        "    \"Arizona\": 10.73,\n",
        "    \"Arkansas\": 11.63,\n",
        "    \"California\": 10,\n",
        "    \"Colorado\": 10,\n",
        "    \"Connecticut\": 6.35,\n",
        "    \"Delaware\": 0,\n",
        "    \"District of Columbia\": 5.75,\n",
        "    \"Florida\": 7.50,\n",
        "    \"Georgia\": 8,\n",
        "    \"Hawaii\": 4.50,\n",
        "    \"Idaho\": 8.50,\n",
        "    \"Illinois\": 9.75,\n",
        "    \"Indiana\": 7,\n",
        "    \"Iowa\": 7,\n",
        "    \"Kansas\": 9.65,\n",
        "    \"Kentucky\": 6,\n",
        "    \"Louisiana\": 11,\n",
        "    \"Maine\": 5.50,\n",
        "    \"Maryland\": 6,\n",
        "    \"Massachusetts\": 6.25,\n",
        "    \"Michigan\": 6,\n",
        "    \"Minnesota\": 7.88,\n",
        "    \"Mississippi\": 7.25,\n",
        "    \"Missouri\": 9.35,\n",
        "    \"Montana\": 0,\n",
        "    \"Nebraska\": 7.50,\n",
        "    \"Nevada\": 8.10,\n",
        "    \"New Hampshire\": 0,\n",
        "    \"New Jersey\": 7,\n",
        "    \"New Mexico\": 8.69,\n",
        "    \"New York\": 8.88,\n",
        "    \"North Carolina\": 7.50,\n",
        "    \"North Dakota\": 8,\n",
        "    \"Ohio\": 8,\n",
        "    \"Oklahoma\": 11,\n",
        "    \"Oregon\": 0,\n",
        "    \"Pennsylvania\": 8,\n",
        "    \"Rhode Island\": 7,\n",
        "    \"South Carolina\": 9,\n",
        "    \"South Dakota\": 6,\n",
        "    \"Tennessee\": 9.75,\n",
        "    \"Texas\": 8.25,\n",
        "    \"Utah\": 8.35,\n",
        "    \"Vermont\": 7,\n",
        "    \"Virginia\": 6,\n",
        "    \"Washington\": 9.60,\n",
        "    \"West Virginia\": 7,\n",
        "    \"Wisconsin\": 5.60,\n",
        "    \"Wyoming\": 6,\n",
        "}\n",
        "\n",
        "\n",
        "for statestax in tax:\n",
        "  for itrvar in [15,20,25]:\n",
        "    print(\"State Tax :\"+str(tax[statestax]) +\" Tip percent :\"+ str(itrvar))\n",
        "    computeprice(20,tax[statestax],itrvar)"
      ],
      "execution_count": 51,
      "outputs": [
        {
          "output_type": "stream",
          "text": [
            "State Tax :13.5 Tip percent :15\n",
            "Total computed price :26.11\n",
            "State Tax :13.5 Tip percent :20\n",
            "Total computed price :27.24\n",
            "State Tax :13.5 Tip percent :25\n",
            "Total computed price :28.38\n",
            "State Tax :7 Tip percent :15\n",
            "Total computed price :24.61\n",
            "State Tax :7 Tip percent :20\n",
            "Total computed price :25.68\n",
            "State Tax :7 Tip percent :25\n",
            "Total computed price :26.75\n",
            "State Tax :10.73 Tip percent :15\n",
            "Total computed price :25.47\n",
            "State Tax :10.73 Tip percent :20\n",
            "Total computed price :26.58\n",
            "State Tax :10.73 Tip percent :25\n",
            "Total computed price :27.68\n",
            "State Tax :11.63 Tip percent :15\n",
            "Total computed price :25.67\n",
            "State Tax :11.63 Tip percent :20\n",
            "Total computed price :26.79\n",
            "State Tax :11.63 Tip percent :25\n",
            "Total computed price :27.91\n",
            "State Tax :10 Tip percent :15\n",
            "Total computed price :25.3\n",
            "State Tax :10 Tip percent :20\n",
            "Total computed price :26.4\n",
            "State Tax :10 Tip percent :25\n",
            "Total computed price :27.5\n",
            "State Tax :10 Tip percent :15\n",
            "Total computed price :25.3\n",
            "State Tax :10 Tip percent :20\n",
            "Total computed price :26.4\n",
            "State Tax :10 Tip percent :25\n",
            "Total computed price :27.5\n",
            "State Tax :6.35 Tip percent :15\n",
            "Total computed price :24.46\n",
            "State Tax :6.35 Tip percent :20\n",
            "Total computed price :25.52\n",
            "State Tax :6.35 Tip percent :25\n",
            "Total computed price :26.59\n",
            "State Tax :0 Tip percent :15\n",
            "Total computed price :23.0\n",
            "State Tax :0 Tip percent :20\n",
            "Total computed price :24.0\n",
            "State Tax :0 Tip percent :25\n",
            "Total computed price :25.0\n",
            "State Tax :5.75 Tip percent :15\n",
            "Total computed price :24.32\n",
            "State Tax :5.75 Tip percent :20\n",
            "Total computed price :25.38\n",
            "State Tax :5.75 Tip percent :25\n",
            "Total computed price :26.44\n",
            "State Tax :7.5 Tip percent :15\n",
            "Total computed price :24.73\n",
            "State Tax :7.5 Tip percent :20\n",
            "Total computed price :25.8\n",
            "State Tax :7.5 Tip percent :25\n",
            "Total computed price :26.88\n",
            "State Tax :8 Tip percent :15\n",
            "Total computed price :24.84\n",
            "State Tax :8 Tip percent :20\n",
            "Total computed price :25.92\n",
            "State Tax :8 Tip percent :25\n",
            "Total computed price :27.0\n",
            "State Tax :4.5 Tip percent :15\n",
            "Total computed price :24.03\n",
            "State Tax :4.5 Tip percent :20\n",
            "Total computed price :25.08\n",
            "State Tax :4.5 Tip percent :25\n",
            "Total computed price :26.12\n",
            "State Tax :8.5 Tip percent :15\n",
            "Total computed price :24.95\n",
            "State Tax :8.5 Tip percent :20\n",
            "Total computed price :26.04\n",
            "State Tax :8.5 Tip percent :25\n",
            "Total computed price :27.12\n",
            "State Tax :9.75 Tip percent :15\n",
            "Total computed price :25.24\n",
            "State Tax :9.75 Tip percent :20\n",
            "Total computed price :26.34\n",
            "State Tax :9.75 Tip percent :25\n",
            "Total computed price :27.44\n",
            "State Tax :7 Tip percent :15\n",
            "Total computed price :24.61\n",
            "State Tax :7 Tip percent :20\n",
            "Total computed price :25.68\n",
            "State Tax :7 Tip percent :25\n",
            "Total computed price :26.75\n",
            "State Tax :7 Tip percent :15\n",
            "Total computed price :24.61\n",
            "State Tax :7 Tip percent :20\n",
            "Total computed price :25.68\n",
            "State Tax :7 Tip percent :25\n",
            "Total computed price :26.75\n",
            "State Tax :9.65 Tip percent :15\n",
            "Total computed price :25.22\n",
            "State Tax :9.65 Tip percent :20\n",
            "Total computed price :26.32\n",
            "State Tax :9.65 Tip percent :25\n",
            "Total computed price :27.41\n",
            "State Tax :6 Tip percent :15\n",
            "Total computed price :24.38\n",
            "State Tax :6 Tip percent :20\n",
            "Total computed price :25.44\n",
            "State Tax :6 Tip percent :25\n",
            "Total computed price :26.5\n",
            "State Tax :11 Tip percent :15\n",
            "Total computed price :25.53\n",
            "State Tax :11 Tip percent :20\n",
            "Total computed price :26.64\n",
            "State Tax :11 Tip percent :25\n",
            "Total computed price :27.75\n",
            "State Tax :5.5 Tip percent :15\n",
            "Total computed price :24.27\n",
            "State Tax :5.5 Tip percent :20\n",
            "Total computed price :25.32\n",
            "State Tax :5.5 Tip percent :25\n",
            "Total computed price :26.38\n",
            "State Tax :6 Tip percent :15\n",
            "Total computed price :24.38\n",
            "State Tax :6 Tip percent :20\n",
            "Total computed price :25.44\n",
            "State Tax :6 Tip percent :25\n",
            "Total computed price :26.5\n",
            "State Tax :6.25 Tip percent :15\n",
            "Total computed price :24.44\n",
            "State Tax :6.25 Tip percent :20\n",
            "Total computed price :25.5\n",
            "State Tax :6.25 Tip percent :25\n",
            "Total computed price :26.56\n",
            "State Tax :6 Tip percent :15\n",
            "Total computed price :24.38\n",
            "State Tax :6 Tip percent :20\n",
            "Total computed price :25.44\n",
            "State Tax :6 Tip percent :25\n",
            "Total computed price :26.5\n",
            "State Tax :7.88 Tip percent :15\n",
            "Total computed price :24.81\n",
            "State Tax :7.88 Tip percent :20\n",
            "Total computed price :25.89\n",
            "State Tax :7.88 Tip percent :25\n",
            "Total computed price :26.97\n",
            "State Tax :7.25 Tip percent :15\n",
            "Total computed price :24.67\n",
            "State Tax :7.25 Tip percent :20\n",
            "Total computed price :25.74\n",
            "State Tax :7.25 Tip percent :25\n",
            "Total computed price :26.81\n",
            "State Tax :9.35 Tip percent :15\n",
            "Total computed price :25.15\n",
            "State Tax :9.35 Tip percent :20\n",
            "Total computed price :26.24\n",
            "State Tax :9.35 Tip percent :25\n",
            "Total computed price :27.34\n",
            "State Tax :0 Tip percent :15\n",
            "Total computed price :23.0\n",
            "State Tax :0 Tip percent :20\n",
            "Total computed price :24.0\n",
            "State Tax :0 Tip percent :25\n",
            "Total computed price :25.0\n",
            "State Tax :7.5 Tip percent :15\n",
            "Total computed price :24.73\n",
            "State Tax :7.5 Tip percent :20\n",
            "Total computed price :25.8\n",
            "State Tax :7.5 Tip percent :25\n",
            "Total computed price :26.88\n",
            "State Tax :8.1 Tip percent :15\n",
            "Total computed price :24.86\n",
            "State Tax :8.1 Tip percent :20\n",
            "Total computed price :25.94\n",
            "State Tax :8.1 Tip percent :25\n",
            "Total computed price :27.03\n",
            "State Tax :0 Tip percent :15\n",
            "Total computed price :23.0\n",
            "State Tax :0 Tip percent :20\n",
            "Total computed price :24.0\n",
            "State Tax :0 Tip percent :25\n",
            "Total computed price :25.0\n",
            "State Tax :7 Tip percent :15\n",
            "Total computed price :24.61\n",
            "State Tax :7 Tip percent :20\n",
            "Total computed price :25.68\n",
            "State Tax :7 Tip percent :25\n",
            "Total computed price :26.75\n",
            "State Tax :8.69 Tip percent :15\n",
            "Total computed price :25.0\n",
            "State Tax :8.69 Tip percent :20\n",
            "Total computed price :26.09\n",
            "State Tax :8.69 Tip percent :25\n",
            "Total computed price :27.17\n",
            "State Tax :8.88 Tip percent :15\n",
            "Total computed price :25.04\n",
            "State Tax :8.88 Tip percent :20\n",
            "Total computed price :26.13\n",
            "State Tax :8.88 Tip percent :25\n",
            "Total computed price :27.22\n",
            "State Tax :7.5 Tip percent :15\n",
            "Total computed price :24.73\n",
            "State Tax :7.5 Tip percent :20\n",
            "Total computed price :25.8\n",
            "State Tax :7.5 Tip percent :25\n",
            "Total computed price :26.88\n",
            "State Tax :8 Tip percent :15\n",
            "Total computed price :24.84\n",
            "State Tax :8 Tip percent :20\n",
            "Total computed price :25.92\n",
            "State Tax :8 Tip percent :25\n",
            "Total computed price :27.0\n",
            "State Tax :8 Tip percent :15\n",
            "Total computed price :24.84\n",
            "State Tax :8 Tip percent :20\n",
            "Total computed price :25.92\n",
            "State Tax :8 Tip percent :25\n",
            "Total computed price :27.0\n",
            "State Tax :11 Tip percent :15\n",
            "Total computed price :25.53\n",
            "State Tax :11 Tip percent :20\n",
            "Total computed price :26.64\n",
            "State Tax :11 Tip percent :25\n",
            "Total computed price :27.75\n",
            "State Tax :0 Tip percent :15\n",
            "Total computed price :23.0\n",
            "State Tax :0 Tip percent :20\n",
            "Total computed price :24.0\n",
            "State Tax :0 Tip percent :25\n",
            "Total computed price :25.0\n",
            "State Tax :8 Tip percent :15\n",
            "Total computed price :24.84\n",
            "State Tax :8 Tip percent :20\n",
            "Total computed price :25.92\n",
            "State Tax :8 Tip percent :25\n",
            "Total computed price :27.0\n",
            "State Tax :7 Tip percent :15\n",
            "Total computed price :24.61\n",
            "State Tax :7 Tip percent :20\n",
            "Total computed price :25.68\n",
            "State Tax :7 Tip percent :25\n",
            "Total computed price :26.75\n",
            "State Tax :9 Tip percent :15\n",
            "Total computed price :25.07\n",
            "State Tax :9 Tip percent :20\n",
            "Total computed price :26.16\n",
            "State Tax :9 Tip percent :25\n",
            "Total computed price :27.25\n",
            "State Tax :6 Tip percent :15\n",
            "Total computed price :24.38\n",
            "State Tax :6 Tip percent :20\n",
            "Total computed price :25.44\n",
            "State Tax :6 Tip percent :25\n",
            "Total computed price :26.5\n",
            "State Tax :9.75 Tip percent :15\n",
            "Total computed price :25.24\n",
            "State Tax :9.75 Tip percent :20\n",
            "Total computed price :26.34\n",
            "State Tax :9.75 Tip percent :25\n",
            "Total computed price :27.44\n",
            "State Tax :8.25 Tip percent :15\n",
            "Total computed price :24.9\n",
            "State Tax :8.25 Tip percent :20\n",
            "Total computed price :25.98\n",
            "State Tax :8.25 Tip percent :25\n",
            "Total computed price :27.06\n",
            "State Tax :8.35 Tip percent :15\n",
            "Total computed price :24.92\n",
            "State Tax :8.35 Tip percent :20\n",
            "Total computed price :26.0\n",
            "State Tax :8.35 Tip percent :25\n",
            "Total computed price :27.09\n",
            "State Tax :7 Tip percent :15\n",
            "Total computed price :24.61\n",
            "State Tax :7 Tip percent :20\n",
            "Total computed price :25.68\n",
            "State Tax :7 Tip percent :25\n",
            "Total computed price :26.75\n",
            "State Tax :6 Tip percent :15\n",
            "Total computed price :24.38\n",
            "State Tax :6 Tip percent :20\n",
            "Total computed price :25.44\n",
            "State Tax :6 Tip percent :25\n",
            "Total computed price :26.5\n",
            "State Tax :9.6 Tip percent :15\n",
            "Total computed price :25.21\n",
            "State Tax :9.6 Tip percent :20\n",
            "Total computed price :26.3\n",
            "State Tax :9.6 Tip percent :25\n",
            "Total computed price :27.4\n",
            "State Tax :7 Tip percent :15\n",
            "Total computed price :24.61\n",
            "State Tax :7 Tip percent :20\n",
            "Total computed price :25.68\n",
            "State Tax :7 Tip percent :25\n",
            "Total computed price :26.75\n",
            "State Tax :5.6 Tip percent :15\n",
            "Total computed price :24.29\n",
            "State Tax :5.6 Tip percent :20\n",
            "Total computed price :25.34\n",
            "State Tax :5.6 Tip percent :25\n",
            "Total computed price :26.4\n",
            "State Tax :6 Tip percent :15\n",
            "Total computed price :24.38\n",
            "State Tax :6 Tip percent :20\n",
            "Total computed price :25.44\n",
            "State Tax :6 Tip percent :25\n",
            "Total computed price :26.5\n"
          ],
          "name": "stdout"
        }
      ]
    },
    {
      "cell_type": "markdown",
      "metadata": {
        "id": "tcsaIeWMBYtL",
        "colab_type": "text"
      },
      "source": [
        "#### (5 pts) C. Search within a file \n",
        "\n",
        "The `curl` command below will download the file `restaurant-names.txt` from Github. \n",
        "\n",
        "For this assignment, your task is to read the file `restaurant-names.txt` (after downloading it) and answer the following questions:\n",
        "* How many restaurants appear in the dataset?\n",
        "* Print the restaurants that contain the word GREEK in their name.\n",
        "* How many restaurants contain the word PIZZA in their name?"
      ]
    },
    {
      "cell_type": "code",
      "metadata": {
        "id": "I7Lc7rj_BqzX",
        "colab_type": "code",
        "colab": {
          "base_uri": "https://localhost:8080/",
          "height": 69
        },
        "outputId": "624180c1-675d-40be-f230-6114a37bfffb"
      },
      "source": [
        "!curl https://raw.githubusercontent.com/ipeirotis/introduction-to-python/master/data/restaurant-names.txt -o restaurant-names.txt"
      ],
      "execution_count": 2,
      "outputs": [
        {
          "output_type": "stream",
          "text": [
            "  % Total    % Received % Xferd  Average Speed   Time    Time     Time  Current\n",
            "                                 Dload  Upload   Total   Spent    Left  Speed\n",
            "\r  0     0    0     0    0     0      0      0 --:--:-- --:--:-- --:--:--     0\r100  364k  100  364k    0     0  1359k      0 --:--:-- --:--:-- --:--:-- 1359k\n"
          ],
          "name": "stdout"
        }
      ]
    },
    {
      "cell_type": "code",
      "metadata": {
        "id": "OpQm-SO9BYtL",
        "colab_type": "code",
        "colab": {
          "base_uri": "https://localhost:8080/",
          "height": 849
        },
        "outputId": "09991340-7c30-45d5-9dea-4eff5c47c4fe"
      },
      "source": [
        "fhand = open('restaurant-names.txt')\n",
        "count = 0\n",
        "count2 = 0\n",
        "for line2 in fhand:\n",
        "  count = count + 1\n",
        "  if (line2.find(\"GREEK\") != -1):\n",
        "     print(\"Restuarent contains GREEK: \", line2)\n",
        "  if (line2.find(\"PIZZA\")!= -1):\n",
        "    count2 = count2 + 1\n",
        "\n",
        "print('Restuarent Count: ', count)\n",
        "print(\"Restuarent Contains word PIZZA: \", count2)\n"
      ],
      "execution_count": 4,
      "outputs": [
        {
          "output_type": "stream",
          "text": [
            "Restuarent contains GREEK:  ANTHI'S GREEK FOOD\n",
            "\n",
            "Restuarent contains GREEK:  AVLEE  GREEK KITCHEN\n",
            "\n",
            "Restuarent contains GREEK:  AVLEE GREEK KITCHEN\n",
            "\n",
            "Restuarent contains GREEK:  AVLI THE LITTLE GREEK TAVERN\n",
            "\n",
            "Restuarent contains GREEK:  ETHOS GREEK CUISINE\n",
            "\n",
            "Restuarent contains GREEK:  GREEK EXPRESS\n",
            "\n",
            "Restuarent contains GREEK:  GREEK FAMILY KITCHEN\n",
            "\n",
            "Restuarent contains GREEK:  GREEK GARDENS GRILL\n",
            "\n",
            "Restuarent contains GREEK:  GREEK GRILL\n",
            "\n",
            "Restuarent contains GREEK:  GREEK ISLANDS\n",
            "\n",
            "Restuarent contains GREEK:  GRK FRESH GREEK\n",
            "\n",
            "Restuarent contains GREEK:  GYRO GREEK STYLE\n",
            "\n",
            "Restuarent contains GREEK:  MEDITERRANEAN GRILL GREEK TARVERNA\n",
            "\n",
            "Restuarent contains GREEK:  OKEANOS GREEK SEAFOOD\n",
            "\n",
            "Restuarent contains GREEK:  OPA! GREEK RESTAURANT\n",
            "\n",
            "Restuarent contains GREEK:  RAFINA GREEK CUISINE\n",
            "\n",
            "Restuarent contains GREEK:  SOMETHING GREEK\n",
            "\n",
            "Restuarent contains GREEK:  SYMPOSIUM GREEK RESTAURANT\n",
            "\n",
            "Restuarent contains GREEK:  THE GREEK\n",
            "\n",
            "Restuarent contains GREEK:  THE GREEK CORNER\n",
            "\n",
            "Restuarent contains GREEK:  THE GREEK KITCHEN  CLINTON BAKERY CAFE\n",
            "\n",
            "Restuarent contains GREEK:  VILLAGE TAVERNA GREEK GRILL\n",
            "\n",
            "Restuarent contains GREEK:  ZENON TAVERNA GREEK RESTAURANT\n",
            "\n",
            "Restuarent Count:  20443\n",
            "Restuarent Contains word PIZZA:  963\n"
          ],
          "name": "stdout"
        }
      ]
    },
    {
      "cell_type": "markdown",
      "metadata": {
        "id": "0mlIZCYvBYtN",
        "colab_type": "text"
      },
      "source": [
        "#### (5pts) D. Function that returns a dictionary \n",
        "\n",
        "Write a function that has a parameter that is the height of someone in centimeters. You need to convert it into feet and inches. (Each foot is 30.48 cm. Each inch is 2.54cm.). The function should return the height in feet and inches. The result should be a dictionary with two keys, `feet` and `inches`, and the values for both keys should be integers."
      ]
    },
    {
      "cell_type": "code",
      "metadata": {
        "id": "88DmKenUBYtO",
        "colab_type": "code",
        "colab": {
          "base_uri": "https://localhost:8080/",
          "height": 35
        },
        "outputId": "1be4109f-b1d7-4517-ac2e-30f13c18d066"
      },
      "source": [
        "def ConverttoFeetInches(height):\n",
        "  mfoot = 30.48 #in cm\n",
        "  minch = 2.54  #in cm\n",
        "  mfeet=height/mfoot\n",
        "  minches=(height%30.48)/minch\n",
        "  #print(str(int(mfeet)) +\" ft \" + str(format(minches, '.1f'))+ \" in\")\n",
        "  return dict(feet = int(mfeet), \n",
        "              inches = format(minches, '.1f'))\n",
        "\n",
        "ConverttoFeetInches(175)\n"
      ],
      "execution_count": 13,
      "outputs": [
        {
          "output_type": "execute_result",
          "data": {
            "text/plain": [
              "{'feet': 5, 'inches': '8.9'}"
            ]
          },
          "metadata": {
            "tags": []
          },
          "execution_count": 13
        }
      ]
    },
    {
      "cell_type": "markdown",
      "metadata": {
        "id": "iWtU2dQpBYtQ",
        "colab_type": "text"
      },
      "source": [
        "#### (5 pts) E. Road Pricing System \n",
        "\n",
        "The Transport Authority is implementing a new Road Pricing system. The authorities decided that the cars will be charged based on distance traveled, on a per mile basis. A car will be charged \\$0.50/mi, a van \\$2.1/mi and taxis travel for free. Create a function to determine how much a particular vehicle would be charged based on a particular distance. The function should take as input the type of the car and the distance traveled, and return the charged price.\n",
        "\n"
      ]
    },
    {
      "cell_type": "code",
      "metadata": {
        "id": "c3ZIuETMBYtQ",
        "colab_type": "code",
        "colab": {
          "base_uri": "https://localhost:8080/",
          "height": 35
        },
        "outputId": "5b44c6dc-9180-4bf9-961b-716957977e19"
      },
      "source": [
        "def RoadCharges(TypeofCar,distance):\n",
        "  if(TypeofCar == 'Car'):\n",
        "    charges = 0.50 * distance  # distance in miles\n",
        "  elif (TypeofCar == 'van'):\n",
        "    charges = 2.1 * distance  # distance in miles\n",
        "  elif (TypeofCar == 'taxis'):\n",
        "    charges = 0;\n",
        "  else:  \n",
        "    charges = 0;\n",
        "\n",
        "  return charges\n",
        "\n",
        "RoadCharges('Car',1)"
      ],
      "execution_count": 39,
      "outputs": [
        {
          "output_type": "execute_result",
          "data": {
            "text/plain": [
              "0.5"
            ]
          },
          "metadata": {
            "tags": []
          },
          "execution_count": 39
        }
      ]
    },
    {
      "cell_type": "markdown",
      "metadata": {
        "id": "j6sK4FDhBYtV",
        "colab_type": "text"
      },
      "source": [
        "#### (15 pts) F. Most Common Item\n",
        "\n",
        "\n",
        "Part 1. (5pts) Write a function that takes as input a list and returns the most common item in the list. \n",
        "\n",
        "Note: This is a challenging exercise. Below, I give some hints. As there are multiple possible solutions, not all hints are applicable to all solutions. Do not freak out if you came up with a solution that is not using some of the hints.\n",
        "\n",
        "* _Hint 1: Make use of set to identify all the unique values in the list_\n",
        "* _Hint 2: Use the `list.count(...)` function to find the frequency of each item_\n",
        "* _Hint 3: The `max()` function can return the maximum value in a list_\n",
        "* _Hint 4: You will need to use a for loop, or a list comprehension_\n",
        "\n",
        "Here are some pieces of code that can help you towards your solution. Try to understand what each piece of code is doing, and figure out how to piece everything together."
      ]
    },
    {
      "cell_type": "code",
      "metadata": {
        "id": "-V6NUwDNBYtV",
        "colab_type": "code",
        "colab": {
          "base_uri": "https://localhost:8080/",
          "height": 35
        },
        "outputId": "e2773f41-b9a8-4677-f0df-c7a1eb2a328d"
      },
      "source": [
        "list_of_names = [\"Kanisha\", \"Candance\", \"Lila\", \"Lupe\", \"Alexander\", \"Candance\", \n",
        "           \"Irvin\", \"Kanisha\", \"Lila\", \"May\", \"Lila\", \"Alexander\", \"Ivana\", \"Alexander\"]\n",
        "list_of_names.count(\"Candance\")\n"
      ],
      "execution_count": 2,
      "outputs": [
        {
          "output_type": "execute_result",
          "data": {
            "text/plain": [
              "2"
            ]
          },
          "metadata": {
            "tags": []
          },
          "execution_count": 2
        }
      ]
    },
    {
      "cell_type": "code",
      "metadata": {
        "id": "5Hjgj0c8BYtY",
        "colab_type": "code",
        "colab": {
          "base_uri": "https://localhost:8080/",
          "height": 35
        },
        "outputId": "ee25c29f-5210-4b33-a44b-bbf41b8e7eb5"
      },
      "source": [
        "numbers = [5,42,34,6,7,4,2,5]\n",
        "maximum = 0\n",
        "for number in numbers:\n",
        "    if number > maximum:\n",
        "        maximum = number\n",
        "print(\"The maximum is\", maximum)"
      ],
      "execution_count": 3,
      "outputs": [
        {
          "output_type": "stream",
          "text": [
            "The maximum is 42\n"
          ],
          "name": "stdout"
        }
      ]
    },
    {
      "cell_type": "code",
      "metadata": {
        "id": "k0F7zlM4BYta",
        "colab_type": "code",
        "colab": {
          "base_uri": "https://localhost:8080/",
          "height": 156
        },
        "outputId": "bdf47ed7-3ee4-4520-dd71-ec838c95acba"
      },
      "source": [
        "counter = dict()\n",
        "for name in list_of_names:\n",
        "    if name in counter:\n",
        "        counter[name] = counter[name]+1\n",
        "    else:\n",
        "        counter[name] = 1\n",
        "counter"
      ],
      "execution_count": 4,
      "outputs": [
        {
          "output_type": "execute_result",
          "data": {
            "text/plain": [
              "{'Alexander': 3,\n",
              " 'Candance': 2,\n",
              " 'Irvin': 1,\n",
              " 'Ivana': 1,\n",
              " 'Kanisha': 2,\n",
              " 'Lila': 3,\n",
              " 'Lupe': 1,\n",
              " 'May': 1}"
            ]
          },
          "metadata": {
            "tags": []
          },
          "execution_count": 4
        }
      ]
    },
    {
      "cell_type": "code",
      "metadata": {
        "id": "EhSgOZgOzK-l",
        "colab_type": "code",
        "colab": {
          "base_uri": "https://localhost:8080/",
          "height": 35
        },
        "outputId": "5b4d6510-46df-43f5-bfc1-cf29549133aa"
      },
      "source": [
        "\n",
        "def CommonItems(anyList):\n",
        "  repeated = dict()\n",
        "  #anyList.rs('\\n')\n",
        " # for names in anyList:\n",
        " #   repeated[names] = anyList.count(names)\n",
        "\n",
        "  #repeated = dict()\n",
        "  for name in anyList:\n",
        "      if name in repeated:\n",
        "          repeated[name] = repeated[name]+1\n",
        "      else:\n",
        "          repeated[name] = 1\n",
        "  \n",
        "#  print(repeated)\n",
        "  maximum = 0\n",
        "  for name in repeated:\n",
        "      if repeated[name] > maximum:\n",
        "          maximum = repeated[name]\n",
        "#  print(\"The maximum is\", maximum)\n",
        "  #maximum = 0\n",
        "  commonelement = dict()\n",
        "  for name in repeated:\n",
        "      if repeated[name] == maximum:\n",
        "          commonelement[name] =  repeated[name]     \n",
        "#  print(commonelement)\n",
        "  return commonelement\n",
        "\n",
        "CommonItems(list_of_names)"
      ],
      "execution_count": 5,
      "outputs": [
        {
          "output_type": "execute_result",
          "data": {
            "text/plain": [
              "{'Alexander': 3, 'Lila': 3}"
            ]
          },
          "metadata": {
            "tags": []
          },
          "execution_count": 5
        }
      ]
    },
    {
      "cell_type": "code",
      "metadata": {
        "id": "kSk6GsQCzHeJ",
        "colab_type": "code",
        "colab": {}
      },
      "source": [
        ""
      ],
      "execution_count": null,
      "outputs": []
    },
    {
      "cell_type": "code",
      "metadata": {
        "id": "RwDwiZ-hDVGe",
        "colab_type": "code",
        "colab": {
          "base_uri": "https://localhost:8080/",
          "height": 121
        },
        "outputId": "6660692a-f63c-4398-8198-ad163280e601"
      },
      "source": [
        "# Download the files restaurants.txt and restaurant-names.txt from Github\n",
        "!curl https://raw.githubusercontent.com/ipeirotis/introduction-to-python/master/data/restaurant-names.txt -o restaurant-names.txt\n",
        "!curl https://raw.githubusercontent.com/ipeirotis/introduction-to-python/master/data/restaurants.txt -o restaurants.txt"
      ],
      "execution_count": 1,
      "outputs": [
        {
          "output_type": "stream",
          "text": [
            "  % Total    % Received % Xferd  Average Speed   Time    Time     Time  Current\n",
            "                                 Dload  Upload   Total   Spent    Left  Speed\n",
            "100  364k  100  364k    0     0  1379k      0 --:--:-- --:--:-- --:--:-- 1379k\n",
            "  % Total    % Received % Xferd  Average Speed   Time    Time     Time  Current\n",
            "                                 Dload  Upload   Total   Spent    Left  Speed\n",
            "100 7222k  100 7222k    0     0  10.3M      0 --:--:-- --:--:-- --:--:-- 10.3M\n"
          ],
          "name": "stdout"
        }
      ]
    },
    {
      "cell_type": "markdown",
      "metadata": {
        "id": "ccwOfO6hBYtd",
        "colab_type": "text"
      },
      "source": [
        "Part 2.  (5pts) Use the function that you created here to find the most frequent restaurant names in the `restaurants.txt` dataset."
      ]
    },
    {
      "cell_type": "code",
      "metadata": {
        "id": "_8ql68dmBYte",
        "colab_type": "code",
        "colab": {
          "base_uri": "https://localhost:8080/",
          "height": 35
        },
        "outputId": "ae057aa5-9879-49f1-e227-bb1b3cac4a79"
      },
      "source": [
        "fhand = open(\"restaurants.txt\")\n",
        "\n",
        "linelist = fhand.readlines()\n",
        "\n",
        "#filelist = [line.rstrip('\\n') for line in open(\"restaurants.txt\")]\n",
        "\n",
        "CommonItems(filelist)"
      ],
      "execution_count": 70,
      "outputs": [
        {
          "output_type": "execute_result",
          "data": {
            "text/plain": [
              "{\"DUNKIN' DONUTS\": 4473}"
            ]
          },
          "metadata": {
            "tags": []
          },
          "execution_count": 70
        }
      ]
    },
    {
      "cell_type": "markdown",
      "metadata": {
        "id": "CBQ02FNJBYth",
        "colab_type": "text"
      },
      "source": [
        "Part 3.  (5pts) Find the most frequent **words** that appear in the restaurant names. Create two answers: one for the dataset `restaurant-names.txt` which contains only distinct restaurant names, and for the dataset `restaurants.txt` which contains the names of all the restaurants in NYC, without eliminating duplicate names."
      ]
    },
    {
      "cell_type": "code",
      "metadata": {
        "id": "-AgLeC0GBYth",
        "colab_type": "code",
        "colab": {
          "base_uri": "https://localhost:8080/",
          "height": 35
        },
        "outputId": "93fa0f82-2858-4ed5-8e8f-4ca8985ee6ca"
      },
      "source": [
        "import re\n",
        "\n",
        "def FreqWords(linelist):\n",
        "  index = 0\n",
        "  rest_name_words_dict = dict() \n",
        "  #rest_name = list(range(0,len(linelist)))\n",
        "  maximum = 0\n",
        "  for firstlist in linelist:\n",
        "    rest_name = firstlist.split(' ')\n",
        "    for irest_name in rest_name:\n",
        "        irest_name= re.sub('[^A-Za-z0-9]+', '', irest_name)\n",
        "        if irest_name in rest_name_words_dict:         \n",
        "            rest_name_words_dict[irest_name] = rest_name_words_dict[irest_name]+1\n",
        "        else:\n",
        "            rest_name_words_dict[irest_name] = 1\n",
        "        if rest_name_words_dict[irest_name] > maximum:\n",
        "            maximum = rest_name_words_dict[irest_name]\n",
        "            maxword = irest_name\n",
        "    index = index + 1\n",
        "\n",
        "  #  print(repeated)\n",
        "  #  maximum = 0\n",
        "  #  for words in rest_name_words_dict:\n",
        "  #      if rest_name_words_dict[words] > maximum:\n",
        "  #          maximum = rest_name_words_dict[words]\n",
        "  #          maxword = words\n",
        "\n",
        "  print(maximum,maxword)\n",
        "  #print(rest_name_words_dict)\n",
        "\n",
        "\n",
        "fhandres = open(\"restaurant-names.txt\")\n",
        "filelist = fhandres.readlines()\n",
        "FreqWords(filelist)\n"
      ],
      "execution_count": 40,
      "outputs": [
        {
          "output_type": "stream",
          "text": [
            "3130 RESTAURANT\n"
          ],
          "name": "stdout"
        }
      ]
    },
    {
      "cell_type": "code",
      "metadata": {
        "id": "8dVDpIxJBYtn",
        "colab_type": "code",
        "colab": {
          "base_uri": "https://localhost:8080/",
          "height": 35
        },
        "outputId": "342c8ea7-f99c-462d-ad17-be87d384e9b2"
      },
      "source": [
        "fhandres2 = open(\"restaurants.txt\")\n",
        "filelist2 = fhandres2.readlines()\n",
        "\n",
        "#finallist = list()\n",
        "#for item in filelist2:\n",
        "#  if (item.find('NYC') != -1):\n",
        "#    finallist.append(item)\n",
        "\n",
        "FreqWords(filelist2)"
      ],
      "execution_count": 41,
      "outputs": [
        {
          "output_type": "stream",
          "text": [
            "65874 RESTAURANT\n"
          ],
          "name": "stdout"
        }
      ]
    }
  ]
}